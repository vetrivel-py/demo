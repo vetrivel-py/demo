{
  "nbformat": 4,
  "nbformat_minor": 0,
  "metadata": {
    "colab": {
      "provenance": [],
      "authorship_tag": "ABX9TyOTfYsX/Fh+fJHkRPGqcJKZ",
      "include_colab_link": true
    },
    "kernelspec": {
      "name": "python3",
      "display_name": "Python 3"
    },
    "language_info": {
      "name": "python"
    }
  },
  "cells": [
    {
      "cell_type": "markdown",
      "metadata": {
        "id": "view-in-github",
        "colab_type": "text"
      },
      "source": [
        "<a href=\"https://colab.research.google.com/github/vetrivel-py/demo/blob/main/rule_based_bot.ipynb\" target=\"_parent\"><img src=\"https://colab.research.google.com/assets/colab-badge.svg\" alt=\"Open In Colab\"/></a>"
      ]
    },
    {
      "cell_type": "code",
      "execution_count": 8,
      "metadata": {
        "id": "2XdNzm9Moeb3"
      },
      "outputs": [],
      "source": [
        "import re\n",
        "import random\n"
      ]
    },
    {
      "cell_type": "code",
      "source": [
        "class RuleBasedBot:\n",
        "    def __init__(self):\n",
        "        self.rules = {\n",
        "            \"hello\": \"Hi there! How can I assist you today?\",\n",
        "            \"bye\": \"Goodbye! Have a great day!\",\n",
        "            \"greeting\": \"Hey! How's it going?\",\n",
        "            \"thanks\": \"You're welcome!\",\n",
        "            \"weather\": \"The weather today is sunny.\",\n",
        "            \"default\": \"I'm sorry, I didn't understand that.\"\n",
        "        }\n",
        "\n",
        "    def respond(self, user_input):\n",
        "\n",
        "        user_input = user_input.lower()\n",
        "\n",
        "\n",
        "        for keyword, response in self.rules.items():\n",
        "            if keyword in user_input:\n",
        "                return response\n",
        "\n",
        "        return self.rules[\"default\"]\n",
        "\n",
        "\n",
        "bot = RuleBasedBot()\n",
        "print(bot.respond(\"Hello!\"))\n",
        "print(bot.respond(\"What's the weather like today?\"))\n",
        "print(bot.respond(\"Can you help me with something?\"))\n",
        "print(bot.respond(\"Thank you!\"))\n",
        "\n",
        ""
      ],
      "metadata": {
        "colab": {
          "base_uri": "https://localhost:8080/"
        },
        "id": "B_1PIWF_o-jK",
        "outputId": "fff403dd-f400-4aa2-e5a5-8850ab7c9c28"
      },
      "execution_count": 7,
      "outputs": [
        {
          "output_type": "stream",
          "name": "stdout",
          "text": [
            "Hi there! How can I assist you today?\n",
            "The weather today is sunny.\n",
            "I'm sorry, I didn't understand that.\n",
            "I'm sorry, I didn't understand that.\n"
          ]
        }
      ]
    }
  ]
}